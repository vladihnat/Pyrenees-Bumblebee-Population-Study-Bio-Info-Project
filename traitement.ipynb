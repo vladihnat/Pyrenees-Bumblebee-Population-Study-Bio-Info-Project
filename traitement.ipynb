{
 "cells": [
  {
   "cell_type": "code",
   "execution_count": 2,
   "metadata": {},
   "outputs": [],
   "source": [
    "# Imports\n",
    "import pandas as pd\n",
    "import numpy as np\n",
    "import matplotlib.pyplot as plt\n",
    "import seaborn as sns\n",
    "%matplotlib inline"
   ]
  },
  {
   "cell_type": "code",
   "execution_count": 6,
   "metadata": {},
   "outputs": [
    {
     "name": "stdout",
     "output_type": "stream",
     "text": [
      "(854, 11)\n",
      "(911, 8)\n"
     ]
    }
   ],
   "source": [
    "b1 = pd.read_csv(\"Data/Bumblebee_data_climate_Marshall_et_al_2020.csv\")\n",
    "b2 = pd.read_csv(\"Data/Bumblebee_data_Marshall_et_al_2020.csv\")\n",
    "print(b1.shape)\n",
    "print(b2.shape)"
   ]
  },
  {
   "cell_type": "code",
   "execution_count": 2,
   "metadata": {},
   "outputs": [
    {
     "name": "stdout",
     "output_type": "stream",
     "text": [
      "Nombre d'entrées entre 1950 et 2006 : 646571\n",
      "(864881, 58)\n"
     ]
    }
   ],
   "source": [
    "# Lire un fichier CSV compressé en Gzip\n",
    "data_1863_1949 = pd.read_csv(\"Q_65_1863-1949_RR-T-Vent.csv.gz\",sep=';')\n",
    "data_1950_2023 = pd.read_csv(\"Q_65_previous-1950-2023_RR-T-Vent.csv.gz\",sep=';')\n",
    "\n",
    "data_1950_2023['AAAAMMJJ'] = pd.to_datetime(data_1950_2023['AAAAMMJJ'], format='%Y%m%d')\n",
    "\n",
    "\n",
    "# Filtrer les entrées où l'année est <= 2006 pour être en accord avec l'article des bourdons \n",
    "data_1950_2006 = data_1950_2023[data_1950_2023['AAAAMMJJ'].dt.year <= 2006]\n",
    "\n",
    "# Compter le nombre d'entrées correspondantes\n",
    "nombre_entrees = data_1950_2006.shape[0]\n",
    "\n",
    "print(f\"Nombre d'entrées entre 1950 et 2006 : {nombre_entrees}\")\n",
    "print(data_1950_2023.shape)"
   ]
  },
  {
   "cell_type": "code",
   "execution_count": null,
   "metadata": {},
   "outputs": [
    {
     "name": "stdout",
     "output_type": "stream",
     "text": [
      "donnees: ['NUM_POSTE', 'NOM_USUEL', 'LAT', 'LON', 'ALTI', 'AAAAMMJJ', 'RR', 'TN', 'HTN', 'TX', 'HTX', 'TM', 'TNTXM', 'TAMPLI', 'TNSOL', 'TN50', 'DG', 'FFM', 'FF2M', 'FXY', 'DXY', 'HXY', 'FXI', 'DXI', 'HXI', 'FXI2', 'DXI2', 'HXI2', 'FXI3S', 'DXI3S', 'HXI3S', 'DRR']\n",
      "qualite: ['QRR', 'QTN', 'QHTN', 'QTX', 'QHTX', 'QTM', 'QTNTXM', 'QTAMPLI', 'QTM', 'QTNSOL', 'QTN50', 'QDG', 'QFFM', 'QFF2M', 'QFXY', 'QDXY', 'QHXY', 'QFXI', 'QDXI', 'QHXI', 'QFXI2', 'QDXI2', 'QHXI2', 'QFXI3S', 'QDXI3S', 'QHXI3S', 'QDRR']\n"
     ]
    }
   ],
   "source": [
    "# On separe les noms des listes en qualités et données\n",
    "qualite = ['QRR', 'QTN', 'QHTN', 'QTX', 'QHTX', 'QTM', 'QTNTXM', 'QTAMPLI', 'QTM', 'QTNSOL', 'QTN50', 'QDG', 'QFFM', 'QFF2M', 'QFXY', 'QDXY', 'QHXY', 'QFXI', 'QDXI','QHXI', \n",
    "           'QFXI2', 'QDXI2', 'QHXI2', 'QFXI3S', 'QDXI3S', 'QHXI3S', 'QDRR']\n",
    "\n",
    "donnees = [col for col in data_1863_1949.columns if col not in qualite]\n",
    "\n",
    "print(f'donnees: {donnees}')\n",
    "print(f'qualite: {qualite}')                                                        "
   ]
  },
  {
   "cell_type": "code",
   "execution_count": null,
   "metadata": {},
   "outputs": [],
   "source": []
  }
 ],
 "metadata": {
  "kernelspec": {
   "display_name": "Python 3",
   "language": "python",
   "name": "python3"
  },
  "language_info": {
   "codemirror_mode": {
    "name": "ipython",
    "version": 3
   },
   "file_extension": ".py",
   "mimetype": "text/x-python",
   "name": "python",
   "nbconvert_exporter": "python",
   "pygments_lexer": "ipython3",
   "version": "3.10.12"
  }
 },
 "nbformat": 4,
 "nbformat_minor": 2
}
